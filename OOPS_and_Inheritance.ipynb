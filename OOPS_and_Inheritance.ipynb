{
  "cells": [
    {
      "cell_type": "code",
      "execution_count": 1,
      "id": "1bfd8d26",
      "metadata": {
        "colab": {
          "base_uri": "https://localhost:8080/"
        },
        "id": "1bfd8d26",
        "outputId": "69bb48d2-d251-4a08-dbf3-ffad4b53c751"
      },
      "outputs": [
        {
          "output_type": "stream",
          "name": "stdout",
          "text": [
            "Buddy\n",
            "5\n",
            "Buddyis barking\n"
          ]
        }
      ],
      "source": [
        "#simple program to create a object using oops concept\n",
        "class dog:\n",
        "    def __init__(self,n,a):\n",
        "        self.n=n\n",
        "        self.a=a\n",
        "    def bark (self):\n",
        "        return f\"{self.n}is barking\"\n",
        "m=dog(\"Buddy\",5)\n",
        "print(m.n)\n",
        "print(m.a)\n",
        "print(m.bark())"
      ]
    },
    {
      "cell_type": "code",
      "execution_count": 2,
      "id": "c829d6f6",
      "metadata": {
        "colab": {
          "base_uri": "https://localhost:8080/"
        },
        "id": "c829d6f6",
        "outputId": "3762015d-57e6-434c-ebb1-eac3ec6867d5"
      },
      "outputs": [
        {
          "output_type": "stream",
          "name": "stdout",
          "text": [
            "Navroop\n",
            "19\n",
            "hello, my name is Navroop and i m 19 years old\n"
          ]
        }
      ],
      "source": [
        "#program 2 to show oops\n",
        "class person:\n",
        "    def __init__(self,name,age):\n",
        "        self.name=name\n",
        "        self.age=age\n",
        "    def greet (self):\n",
        "        return f\"hello, my name is {self.name} and i m {self.age} years old\"\n",
        "p=person(\"Navroop\",19)\n",
        "print(p.name)\n",
        "print(p.age)\n",
        "print(p.greet())\n"
      ]
    },
    {
      "cell_type": "code",
      "execution_count": 3,
      "id": "42f4a938",
      "metadata": {
        "colab": {
          "base_uri": "https://localhost:8080/"
        },
        "id": "42f4a938",
        "outputId": "72f1d9e5-a4e0-4daa-9437-9553880666de"
      },
      "outputs": [
        {
          "output_type": "stream",
          "name": "stdout",
          "text": [
            "Mahindra\n",
            "XUV400\n",
            "Mahindra is a brand and model is XUV400\n"
          ]
        }
      ],
      "source": [
        "#wap to create class car which can store brand and model and print brand and model\n",
        "class car:\n",
        "    def __init__(self,brand,model):\n",
        "        self.brand=brand\n",
        "        self.model=model\n",
        "    def car1(self):\n",
        "        return f\"{self.brand} is a brand and model is {self.model}\"\n",
        "a=car(\"Mahindra\",\"XUV400\")\n",
        "print(a.brand)\n",
        "print(a.model)\n",
        "print(a.car1())"
      ]
    },
    {
      "cell_type": "code",
      "execution_count": 4,
      "id": "8e487c76",
      "metadata": {
        "colab": {
          "base_uri": "https://localhost:8080/",
          "height": 35
        },
        "id": "8e487c76",
        "outputId": "b9e96701-24ab-4234-c814-65d175176226"
      },
      "outputs": [
        {
          "output_type": "execute_result",
          "data": {
            "text/plain": [
              "'navroop is 20 years old'"
            ],
            "application/vnd.google.colaboratory.intrinsic+json": {
              "type": "string"
            }
          },
          "metadata": {},
          "execution_count": 4
        }
      ],
      "source": [
        "#super () function\n",
        "class parent:\n",
        "    def __init__(self,name):\n",
        "        self.name=name\n",
        "    def greet(self):\n",
        "        return f\"Hello,{self.name}\"\n",
        "class child(parent):\n",
        "    def __init__(self,name,age):\n",
        "        super().__init__(name)\n",
        "        self.age=age\n",
        "    def dage(self):\n",
        "        return f\"{self.name} is {self.age} years old\"\n",
        "p=parent(\"navroop\")\n",
        "p.greet()\n",
        "g=child(\"navroop\",20)\n",
        "g.dage()\n"
      ]
    },
    {
      "cell_type": "code",
      "execution_count": 5,
      "id": "9a429bde",
      "metadata": {
        "colab": {
          "base_uri": "https://localhost:8080/"
        },
        "id": "9a429bde",
        "outputId": "7421df10-d770-462a-be83-03cae6a781d2"
      },
      "outputs": [
        {
          "output_type": "stream",
          "name": "stdout",
          "text": [
            "CLASS D CLASS A CLASS C CLASS B\n"
          ]
        }
      ],
      "source": [
        "#multi level inderitance\n",
        "class a:\n",
        "    def see(self):\n",
        "        return \"CLASS A\"\n",
        "class b:\n",
        "    def get(self):\n",
        "        return \"CLASS B\"\n",
        "class c(a,b):\n",
        "    def show(self):\n",
        "        return \"CLASS C\"\n",
        "class d(c):\n",
        "    def display(self):\n",
        "        return \"CLASS D\"\n",
        "r=d()\n",
        "print(r.display(),r.see(),r.show(),r.get())"
      ]
    },
    {
      "cell_type": "code",
      "execution_count": 6,
      "id": "9ccd50f6",
      "metadata": {
        "colab": {
          "base_uri": "https://localhost:8080/"
        },
        "id": "9ccd50f6",
        "outputId": "cc531f26-c5a7-452c-fa84-debf380901a4"
      },
      "outputs": [
        {
          "output_type": "stream",
          "name": "stdout",
          "text": [
            "tiger makes a sound\n",
            "Buddy bark\n"
          ]
        }
      ],
      "source": [
        "\n",
        "#method overiding\n",
        "class animal:\n",
        "    def __init__(self,name):\n",
        "        self.name=name\n",
        "    def speak(self):\n",
        "        return f\"{self.name} makes a sound\"\n",
        "class dog(animal):\n",
        "    def speak(self):\n",
        "        return f\"{self.name} bark\"\n",
        "v=animal(\"tiger\")\n",
        "print(v.speak())\n",
        "t=dog(\"Buddy\")\n",
        "print(t.speak())\n"
      ]
    },
    {
      "cell_type": "code",
      "execution_count": 7,
      "id": "d34f7b54",
      "metadata": {
        "colab": {
          "base_uri": "https://localhost:8080/"
        },
        "id": "d34f7b54",
        "outputId": "3bdd5bec-e89f-4485-ffaf-4f4e9763f3fb"
      },
      "outputs": [
        {
          "output_type": "stream",
          "name": "stdout",
          "text": [
            "calling protected no. of base class 2\n",
            "callinf modified protected member 3\n",
            "accessing protected member of o1 3\n",
            "accessing protected member of o2 2\n"
          ]
        }
      ],
      "source": [
        "class base:\n",
        "    def __init__(self):\n",
        "        self._a=2\n",
        "class derived(base):\n",
        "    def __init__(self):\n",
        "        base.__init__(self)\n",
        "        print(\"calling protected no. of base class\",self._a)\n",
        "        self._a=3\n",
        "        print(\"callinf modified protected member\",self._a)\n",
        "\n",
        "o1=derived()\n",
        "o2=base()\n",
        "print(\"accessing protected member of o1\",o1._a)\n",
        "print(\"accessing protected member of o2\",o2._a)\n"
      ]
    },
    {
      "cell_type": "code",
      "execution_count": 8,
      "id": "8a2e1125",
      "metadata": {
        "colab": {
          "base_uri": "https://localhost:8080/"
        },
        "id": "8a2e1125",
        "outputId": "2be6e749-0fce-48ec-d473-d5e9e9d921ed"
      },
      "outputs": [
        {
          "output_type": "stream",
          "name": "stdout",
          "text": [
            "PCU\n"
          ]
        }
      ],
      "source": [
        "#private members\n",
        "class base:\n",
        "    def __init__(self):\n",
        "        self.a=\"PCU\"\n",
        "        self.__c=\"PCU1\"\n",
        "class derived(base):\n",
        "    def __init__(self):\n",
        "        base.__init__(self)\n",
        "        print(\"calling private member of base\")\n",
        "        print(self.__c)\n",
        "obj1=base()\n",
        "print(obj1.a)"
      ]
    }
  ],
  "metadata": {
    "kernelspec": {
      "display_name": "Python 3 (ipykernel)",
      "language": "python",
      "name": "python3"
    },
    "language_info": {
      "codemirror_mode": {
        "name": "ipython",
        "version": 3
      },
      "file_extension": ".py",
      "mimetype": "text/x-python",
      "name": "python",
      "nbconvert_exporter": "python",
      "pygments_lexer": "ipython3",
      "version": "3.12.3"
    },
    "colab": {
      "provenance": []
    }
  },
  "nbformat": 4,
  "nbformat_minor": 5
}